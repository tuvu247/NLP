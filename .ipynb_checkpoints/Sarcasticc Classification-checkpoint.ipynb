{
 "cells": [
  {
   "cell_type": "markdown",
   "metadata": {
    "id": "ED0bpKA5rITi"
   },
   "source": [
    "#### Mục tiêu: Xây dựng mô hình có độ chính xác trên tập validation khoảng 84%"
   ]
  },
  {
   "cell_type": "code",
   "execution_count": null,
   "metadata": {
    "id": "Ac8aY72mm-LF"
   },
   "outputs": [],
   "source": [
    "import json\n",
    "import tensorflow as tf\n",
    "\n",
    "from tensorflow.keras.preprocessing.text import Tokenizer\n",
    "from tensorflow.keras.preprocessing.sequence import pad_sequences"
   ]
  },
  {
   "cell_type": "code",
   "execution_count": null,
   "metadata": {
    "id": "VaZQvC2RoudH"
   },
   "outputs": [],
   "source": [
    "from tensorflow.keras.models import Sequential\n",
    "from tensorflow.keras.layers import Dense, Embedding"
   ]
  },
  {
   "cell_type": "code",
   "execution_count": null,
   "metadata": {
    "id": "GQ3LmxlVnGGr"
   },
   "outputs": [],
   "source": [
    "vocab_size = 10000\n",
    "embedding_dim = 16\n",
    "max_length = 100\n",
    "trunc_type='post'\n",
    "padding_type='post'\n",
    "oov_tok = \"<OOV>\"\n",
    "training_size = 20000\n"
   ]
  },
  {
   "cell_type": "code",
   "execution_count": null,
   "metadata": {
    "colab": {
     "base_uri": "https://localhost:8080/",
     "height": 215
    },
    "id": "M3o5hNpNnLSC",
    "outputId": "988fb6d3-39ee-4938-e24e-2751e13b6814"
   },
   "outputs": [
    {
     "name": "stdout",
     "output_type": "stream",
     "text": [
      "--2020-07-10 02:45:20--  https://storage.googleapis.com/laurencemoroney-blog.appspot.com/sarcasm.json\n",
      "Resolving storage.googleapis.com (storage.googleapis.com)... 64.233.188.128, 64.233.189.128, 108.177.97.128, ...\n",
      "Connecting to storage.googleapis.com (storage.googleapis.com)|64.233.188.128|:443... connected.\n",
      "HTTP request sent, awaiting response... 200 OK\n",
      "Length: 5643545 (5.4M) [application/json]\n",
      "Saving to: ‘/tmp/sarcasm.json’\n",
      "\n",
      "\r",
      "/tmp/sarcasm.json     0%[                    ]       0  --.-KB/s               \r",
      "/tmp/sarcasm.json   100%[===================>]   5.38M  --.-KB/s    in 0.09s   \n",
      "\n",
      "2020-07-10 02:45:20 (57.3 MB/s) - ‘/tmp/sarcasm.json’ saved [5643545/5643545]\n",
      "\n"
     ]
    }
   ],
   "source": [
    "!wget --no-check-certificate \\\n",
    "    https://storage.googleapis.com/laurencemoroney-blog.appspot.com/sarcasm.json \\\n",
    "    -O /tmp/sarcasm.json\n"
   ]
  },
  {
   "cell_type": "code",
   "execution_count": null,
   "metadata": {
    "id": "5iJW8S0knOwf"
   },
   "outputs": [],
   "source": [
    "with open(\"/tmp/sarcasm.json\", 'r') as f:\n",
    "    datastore = json.load(f)\n",
    "\n",
    "sentences = []\n",
    "labels = []\n",
    "\n",
    "for item in datastore:\n",
    "    sentences.append(item['headline'])\n",
    "    labels.append(item['is_sarcastic'])\n",
    "\n",
    "\n",
    "import numpy as np\n",
    "labels = np.array(labels)"
   ]
  },
  {
   "cell_type": "code",
   "execution_count": null,
   "metadata": {
    "id": "ADdgfi2BnQDb"
   },
   "outputs": [],
   "source": [
    "# Chia features tập train\n",
    "training_sentences = sentences[0:training_size]\n",
    "# FIXME: Chia features tập test\n",
    "# FIXME: Chia labels tập train\n",
    "# FIXME: Chia labels tập test\n"
   ]
  },
  {
   "cell_type": "code",
   "execution_count": null,
   "metadata": {
    "id": "QtcLlA3rnij6"
   },
   "outputs": [],
   "source": [
    "# FIXME: Tạo tokenizer\n",
    "tokenizer = \n",
    "\n",
    "# FIXME: Đưa từ vào tokenizer để tạo từ điển\n",
    "\n",
    "tokenizer.\n",
    "\n",
    "# FIXME: Biến các câu train thành sequences\n",
    "\n",
    "training_sequences = \n",
    "\n",
    "# FIXME: Padding cho các train sequences\n",
    "\n",
    "training_padded = \n",
    "\n",
    "# FIXME: Biến các câu test thành sequences và padding tương ứng\n",
    "\n",
    "test_sequences = \n",
    "\n",
    "test_padded = "
   ]
  },
  {
   "cell_type": "code",
   "execution_count": null,
   "metadata": {
    "id": "TUSDCqYQooDh"
   },
   "outputs": [],
   "source": [
    "# Xây dựng model\n",
    "\n",
    "# FIXME: Tạo model Sequential\n",
    "\n",
    "model = \n",
    "\n",
    "# FIXME: Thêm một lớp Embedding\n",
    "\n",
    "model.add()\n",
    "\n",
    "# FIXME: Thêm một lớp Dense, chú ý có activation\n",
    "\n",
    "model.add()\n",
    "\n",
    "# FIXME: Thêm một lớp Dense cuối, chú ý có activation\n",
    "\n",
    "model.add()\n"
   ]
  },
  {
   "cell_type": "code",
   "execution_count": null,
   "metadata": {
    "id": "E59eZek1pdAQ"
   },
   "outputs": [],
   "source": [
    "# FIXME: Compile Optimizer và Loss function\n",
    "\n",
    "model.compile()"
   ]
  },
  {
   "cell_type": "code",
   "execution_count": null,
   "metadata": {
    "id": "pOcPg5DRprqH"
   },
   "outputs": [],
   "source": [
    "# FIXME: Tiến hành training\n",
    "\n",
    "model.fit()"
   ]
  },
  {
   "cell_type": "code",
   "execution_count": null,
   "metadata": {
    "id": "he-aXqEDpzrX"
   },
   "outputs": [],
   "source": [
    "# FIXME: Tiến hành dự đoán"
   ]
  },
  {
   "cell_type": "code",
   "execution_count": null,
   "metadata": {
    "id": "P_0xcZq1p1xf"
   },
   "outputs": [],
   "source": [
    "test_sen = [\"Everyone seems normal until you get to know them.\"]\n",
    "\n",
    "# FIXME: Chuyển câu thành Sequences\n",
    "\n",
    "# FIXME: padding cho câu này\n",
    "\n",
    "# FIXME: Tiến hành dự đoán\n",
    "\n",
    "model.predict()"
   ]
  }
 ],
 "metadata": {
  "accelerator": "GPU",
  "colab": {
   "name": "Copy of 13-Ex1.ipynb",
   "provenance": []
  },
  "kernelspec": {
   "display_name": "Python 3",
   "language": "python",
   "name": "python3"
  },
  "language_info": {
   "codemirror_mode": {
    "name": "ipython",
    "version": 3
   },
   "file_extension": ".py",
   "mimetype": "text/x-python",
   "name": "python",
   "nbconvert_exporter": "python",
   "pygments_lexer": "ipython3",
   "version": "3.7.6"
  }
 },
 "nbformat": 4,
 "nbformat_minor": 1
}

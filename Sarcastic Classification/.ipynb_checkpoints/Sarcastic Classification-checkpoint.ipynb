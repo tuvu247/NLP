{
 "cells": [
  {
   "cell_type": "markdown",
   "metadata": {
    "id": "ED0bpKA5rITi"
   },
   "source": [
    "#### Mục tiêu: Xây dựng mô hình có độ chính xác trên tập validation khoảng 84%"
   ]
  },
  {
   "cell_type": "code",
   "execution_count": 1,
   "metadata": {
    "id": "Ac8aY72mm-LF"
   },
   "outputs": [],
   "source": [
    "import json\n",
    "import tensorflow as tf\n",
    "\n",
    "from tensorflow.keras.preprocessing.text import Tokenizer\n",
    "from tensorflow.keras.preprocessing.sequence import pad_sequences"
   ]
  },
  {
   "cell_type": "code",
   "execution_count": 2,
   "metadata": {
    "id": "VaZQvC2RoudH"
   },
   "outputs": [],
   "source": [
    "from tensorflow.keras.models import Sequential\n",
    "from tensorflow.keras.layers import Dense, Embedding"
   ]
  },
  {
   "cell_type": "code",
   "execution_count": 3,
   "metadata": {
    "id": "GQ3LmxlVnGGr"
   },
   "outputs": [],
   "source": [
    "vocab_size = 10000\n",
    "embedding_dim = 16\n",
    "max_length = 100\n",
    "trunc_type='post'\n",
    "padding_type='post'\n",
    "oov_tok = \"<OOV>\"\n",
    "training_size = 20000"
   ]
  },
  {
   "cell_type": "code",
   "execution_count": 11,
   "metadata": {
    "colab": {
     "base_uri": "https://localhost:8080/",
     "height": 215
    },
    "id": "M3o5hNpNnLSC",
    "outputId": "988fb6d3-39ee-4938-e24e-2751e13b6814"
   },
   "outputs": [
    {
     "name": "stdout",
     "output_type": "stream",
     "text": [
      "/bin/sh: wget: command not found\r\n"
     ]
    }
   ],
   "source": [
    "# !wget --no-check-certificate \\\n",
    "#    https://storage.googleapis.com/laurencemoroney-blog.appspot.com/sarcasm.json -O /tmp/sarcasm.json"
   ]
  },
  {
   "cell_type": "code",
   "execution_count": 4,
   "metadata": {
    "id": "5iJW8S0knOwf"
   },
   "outputs": [],
   "source": [
    "with open(\"Data.json\", 'r') as f:\n",
    "    datastore = json.load(f)\n",
    "\n",
    "sentences = []\n",
    "labels = []\n",
    "\n",
    "for item in datastore:\n",
    "    sentences.append(item['headline'])\n",
    "    labels.append(item['is_sarcastic'])\n",
    "\n",
    "\n",
    "import numpy as np\n",
    "labels = np.array(labels)"
   ]
  },
  {
   "cell_type": "code",
   "execution_count": 10,
   "metadata": {},
   "outputs": [
    {
     "name": "stdout",
     "output_type": "stream",
     "text": [
      "26709\n",
      "mom starting to fear son's web series closest thing she will have to grandchild\n"
     ]
    }
   ],
   "source": [
    "print(len(sentences))\n",
    "print(sentences[2])"
   ]
  },
  {
   "cell_type": "code",
   "execution_count": 11,
   "metadata": {
    "id": "ADdgfi2BnQDb"
   },
   "outputs": [],
   "source": [
    "training_sentences = sentences[0:training_size]\n",
    "testing_sentences = sentences[training_size:]\n",
    "\n",
    "training_labels = labels[0:training_size]\n",
    "testing_labels = labels[training_size:]"
   ]
  },
  {
   "cell_type": "code",
   "execution_count": 14,
   "metadata": {},
   "outputs": [
    {
     "data": {
      "text/plain": [
       "6709"
      ]
     },
     "execution_count": 14,
     "metadata": {},
     "output_type": "execute_result"
    }
   ],
   "source": [
    "len(testing_labels)"
   ]
  },
  {
   "cell_type": "code",
   "execution_count": 33,
   "metadata": {
    "id": "QtcLlA3rnij6"
   },
   "outputs": [],
   "source": [
    "# Tokenizer\n",
    "tokenizer = Tokenizer(num_words=vocab_size,oov_token=oov_tok)\n",
    "\n",
    "# FIXME: Đưa từ vào tokenizer để tạo từ điển\n",
    "\n",
    "tokenizer.fit_on_texts(training_sentences)\n",
    "\n",
    "# FIXME: Biến các câu train thành sequences\n",
    "\n",
    "training_sequences = tokenizer.texts_to_sequences(training_sentences)\n",
    "\n",
    "# FIXME: Padding cho các train sequences\n",
    "\n",
    "training_padded = pad_sequences(training_sequences, maxlen=max_length,padding = padding_type, truncating=trunc_type)\n",
    "\n",
    "# FIXME: Biến các câu test thành sequences và padding tương ứng\n",
    "\n",
    "testing_sequences = tokenizer.texts_to_sequences(testing_sentences)\n",
    "\n",
    "testing_padded = pad_sequences(testing_sequences, maxlen=max_length,padding = padding_type, truncating=trunc_type)"
   ]
  },
  {
   "cell_type": "code",
   "execution_count": 34,
   "metadata": {},
   "outputs": [
    {
     "data": {
      "text/plain": [
       "(6709, 100)"
      ]
     },
     "execution_count": 34,
     "metadata": {},
     "output_type": "execute_result"
    }
   ],
   "source": [
    "testing_padded.shape"
   ]
  },
  {
   "cell_type": "code",
   "execution_count": 35,
   "metadata": {},
   "outputs": [
    {
     "data": {
      "text/plain": [
       "(20000, 100)"
      ]
     },
     "execution_count": 35,
     "metadata": {},
     "output_type": "execute_result"
    }
   ],
   "source": [
    "training_padded.shape"
   ]
  },
  {
   "cell_type": "code",
   "execution_count": 36,
   "metadata": {},
   "outputs": [
    {
     "ename": "SyntaxError",
     "evalue": "invalid syntax (<ipython-input-36-4e76a483b7cc>, line 1)",
     "output_type": "error",
     "traceback": [
      "\u001b[0;36m  File \u001b[0;32m\"<ipython-input-36-4e76a483b7cc>\"\u001b[0;36m, line \u001b[0;32m1\u001b[0m\n\u001b[0;31m    from tensorflow.\u001b[0m\n\u001b[0m                    ^\u001b[0m\n\u001b[0;31mSyntaxError\u001b[0m\u001b[0;31m:\u001b[0m invalid syntax\n"
     ]
    }
   ],
   "source": []
  },
  {
   "cell_type": "code",
   "execution_count": 37,
   "metadata": {
    "id": "TUSDCqYQooDh"
   },
   "outputs": [],
   "source": [
    "# Xây dựng model\n",
    "from tensorflow.keras.models import Sequential\n",
    "from tensorflow.keras.layers import Dense, Embedding, GlobalAveragePooling1D\n",
    "\n",
    "# FIXME: Tạo model Sequential\n",
    "\n",
    "model = Sequential()\n",
    "\n",
    "# FIXME: Thêm một lớp Embedding\n",
    "\n",
    "model.add(Embedding(vocab_size, embedding_dim, input_length=max_length))\n",
    "\n",
    "model.add(GlobalAveragePooling1D())\n",
    "# FIXME: Thêm một lớp Dense, chú ý có activation\n",
    "\n",
    "model.add(Dense(24,activation='relu'))\n",
    "\n",
    "# FIXME: Thêm một lớp Dense cuối, chú ý có activation\n",
    "\n",
    "model.add(Dense(1,activation='sigmoid'))"
   ]
  },
  {
   "cell_type": "code",
   "execution_count": 38,
   "metadata": {},
   "outputs": [
    {
     "name": "stdout",
     "output_type": "stream",
     "text": [
      "Model: \"sequential_2\"\n",
      "_________________________________________________________________\n",
      "Layer (type)                 Output Shape              Param #   \n",
      "=================================================================\n",
      "embedding_5 (Embedding)      (None, 100, 16)           160000    \n",
      "_________________________________________________________________\n",
      "global_average_pooling1d_1 ( (None, 16)                0         \n",
      "_________________________________________________________________\n",
      "dense_4 (Dense)              (None, 24)                408       \n",
      "_________________________________________________________________\n",
      "dense_5 (Dense)              (None, 1)                 25        \n",
      "=================================================================\n",
      "Total params: 160,433\n",
      "Trainable params: 160,433\n",
      "Non-trainable params: 0\n",
      "_________________________________________________________________\n"
     ]
    }
   ],
   "source": [
    "model.summary()"
   ]
  },
  {
   "cell_type": "code",
   "execution_count": 39,
   "metadata": {
    "id": "E59eZek1pdAQ"
   },
   "outputs": [],
   "source": [
    "# FIXME: Compile Optimizer và Loss function\n",
    "\n",
    "model.compile(loss='binary_crossentropy',optimizer='adam',metrics='accuracy')"
   ]
  },
  {
   "cell_type": "code",
   "execution_count": 40,
   "metadata": {
    "id": "pOcPg5DRprqH"
   },
   "outputs": [
    {
     "name": "stdout",
     "output_type": "stream",
     "text": [
      "Epoch 1/30\n",
      "625/625 [==============================] - 1s 2ms/step - loss: 0.6759 - accuracy: 0.5715 - val_loss: 0.5227 - val_accuracy: 0.7970\n",
      "Epoch 2/30\n",
      "625/625 [==============================] - 1s 2ms/step - loss: 0.4407 - accuracy: 0.8380 - val_loss: 0.3756 - val_accuracy: 0.8489\n",
      "Epoch 3/30\n",
      "625/625 [==============================] - 1s 2ms/step - loss: 0.3041 - accuracy: 0.8842 - val_loss: 0.3531 - val_accuracy: 0.8504\n",
      "Epoch 4/30\n",
      "625/625 [==============================] - 1s 2ms/step - loss: 0.2465 - accuracy: 0.9085 - val_loss: 0.3438 - val_accuracy: 0.8550\n",
      "Epoch 5/30\n",
      "625/625 [==============================] - 1s 2ms/step - loss: 0.2034 - accuracy: 0.9230 - val_loss: 0.3489 - val_accuracy: 0.8563\n",
      "Epoch 6/30\n",
      "625/625 [==============================] - 1s 2ms/step - loss: 0.1838 - accuracy: 0.9313 - val_loss: 0.3616 - val_accuracy: 0.8547\n",
      "Epoch 7/30\n",
      "625/625 [==============================] - 1s 2ms/step - loss: 0.1616 - accuracy: 0.9408 - val_loss: 0.3783 - val_accuracy: 0.8542\n",
      "Epoch 8/30\n",
      "625/625 [==============================] - 1s 2ms/step - loss: 0.1381 - accuracy: 0.9522 - val_loss: 0.4082 - val_accuracy: 0.8450\n",
      "Epoch 9/30\n",
      "625/625 [==============================] - 1s 2ms/step - loss: 0.1213 - accuracy: 0.9586 - val_loss: 0.4729 - val_accuracy: 0.8314\n",
      "Epoch 10/30\n",
      "625/625 [==============================] - 1s 2ms/step - loss: 0.1146 - accuracy: 0.9610 - val_loss: 0.4612 - val_accuracy: 0.8401\n",
      "Epoch 11/30\n",
      "625/625 [==============================] - 1s 2ms/step - loss: 0.1007 - accuracy: 0.9647 - val_loss: 0.4851 - val_accuracy: 0.8389\n",
      "Epoch 12/30\n",
      "625/625 [==============================] - 1s 2ms/step - loss: 0.0911 - accuracy: 0.9700 - val_loss: 0.5131 - val_accuracy: 0.8384\n",
      "Epoch 13/30\n",
      "625/625 [==============================] - 1s 2ms/step - loss: 0.0804 - accuracy: 0.9740 - val_loss: 0.5373 - val_accuracy: 0.8389\n",
      "Epoch 14/30\n",
      "625/625 [==============================] - 1s 2ms/step - loss: 0.0756 - accuracy: 0.9753 - val_loss: 0.5697 - val_accuracy: 0.8356\n",
      "Epoch 15/30\n",
      "625/625 [==============================] - 1s 2ms/step - loss: 0.0688 - accuracy: 0.9782 - val_loss: 0.6135 - val_accuracy: 0.8253\n",
      "Epoch 16/30\n",
      "625/625 [==============================] - 1s 2ms/step - loss: 0.0628 - accuracy: 0.9804 - val_loss: 0.6425 - val_accuracy: 0.8302\n",
      "Epoch 17/30\n",
      "625/625 [==============================] - 1s 2ms/step - loss: 0.0563 - accuracy: 0.9838 - val_loss: 0.6813 - val_accuracy: 0.8283\n",
      "Epoch 18/30\n",
      "625/625 [==============================] - 1s 2ms/step - loss: 0.0493 - accuracy: 0.9860 - val_loss: 0.7228 - val_accuracy: 0.8261\n",
      "Epoch 19/30\n",
      "625/625 [==============================] - 1s 2ms/step - loss: 0.0470 - accuracy: 0.9874 - val_loss: 0.8204 - val_accuracy: 0.8214\n",
      "Epoch 20/30\n",
      "625/625 [==============================] - 1s 2ms/step - loss: 0.0426 - accuracy: 0.9876 - val_loss: 0.7932 - val_accuracy: 0.8225\n",
      "Epoch 21/30\n",
      "625/625 [==============================] - 1s 2ms/step - loss: 0.0373 - accuracy: 0.9901 - val_loss: 0.9046 - val_accuracy: 0.8186\n",
      "Epoch 22/30\n",
      "625/625 [==============================] - 1s 2ms/step - loss: 0.0358 - accuracy: 0.9908 - val_loss: 0.8954 - val_accuracy: 0.8174\n",
      "Epoch 23/30\n",
      "625/625 [==============================] - 1s 2ms/step - loss: 0.0294 - accuracy: 0.9932 - val_loss: 0.9562 - val_accuracy: 0.8153\n",
      "Epoch 24/30\n",
      "625/625 [==============================] - 1s 2ms/step - loss: 0.0330 - accuracy: 0.9903 - val_loss: 0.9664 - val_accuracy: 0.8158\n",
      "Epoch 25/30\n",
      "625/625 [==============================] - 1s 2ms/step - loss: 0.0281 - accuracy: 0.9916 - val_loss: 1.0267 - val_accuracy: 0.8161\n",
      "Epoch 26/30\n",
      "625/625 [==============================] - 1s 2ms/step - loss: 0.0235 - accuracy: 0.9942 - val_loss: 1.0451 - val_accuracy: 0.8107\n",
      "Epoch 27/30\n",
      "625/625 [==============================] - 1s 2ms/step - loss: 0.0239 - accuracy: 0.9930 - val_loss: 1.1174 - val_accuracy: 0.8132\n",
      "Epoch 28/30\n",
      "625/625 [==============================] - 1s 2ms/step - loss: 0.0189 - accuracy: 0.9952 - val_loss: 1.1544 - val_accuracy: 0.8128\n",
      "Epoch 29/30\n",
      "625/625 [==============================] - 1s 2ms/step - loss: 0.0217 - accuracy: 0.9944 - val_loss: 1.2696 - val_accuracy: 0.8123\n",
      "Epoch 30/30\n",
      "625/625 [==============================] - 1s 2ms/step - loss: 0.0214 - accuracy: 0.9945 - val_loss: 1.3149 - val_accuracy: 0.8119\n"
     ]
    },
    {
     "data": {
      "text/plain": [
       "<tensorflow.python.keras.callbacks.History at 0x7feb208d1950>"
      ]
     },
     "execution_count": 40,
     "metadata": {},
     "output_type": "execute_result"
    }
   ],
   "source": [
    "# FIXME: Tiến hành training\n",
    "\n",
    "model.fit(training_padded,training_labels,epochs=30,validation_data=(testing_padded,testing_labels))"
   ]
  },
  {
   "cell_type": "code",
   "execution_count": null,
   "metadata": {
    "id": "he-aXqEDpzrX"
   },
   "outputs": [],
   "source": [
    "# FIXME: Tiến hành dự đoán\n"
   ]
  },
  {
   "cell_type": "code",
   "execution_count": 53,
   "metadata": {
    "id": "P_0xcZq1p1xf"
   },
   "outputs": [
    {
     "name": "stdout",
     "output_type": "stream",
     "text": [
      "[[1.3181574e-09]]\n",
      "Cau nay la 0\n"
     ]
    }
   ],
   "source": [
    "test_sen = [\"spicer denies that ending maternity care guarantee would mean women pay more for health care\"]\n",
    "\n",
    "# FIXME: Chuyển câu thành Sequences\n",
    "\n",
    "test_sen_sequences = tokenizer.texts_to_sequences(test_sen)\n",
    "\n",
    "# FIXME: padding cho câu này\n",
    "\n",
    "test_sen_padded = pad_sequences(test_sen_sequences, maxlen=max_length,padding = padding_type, truncating=trunc_type)\n",
    "\n",
    "# FIXME: Tiến hành dự đoán\n",
    "\n",
    "y = model.predict(test_sen_padded)\n",
    "\n",
    "print (y)\n",
    "\n",
    "for i in y:\n",
    "    if y[0]>=0.5: \n",
    "        print('Cau nay la 1')\n",
    "    else :\n",
    "        print('Cau nay la 0')\n",
    "        "
   ]
  },
  {
   "cell_type": "code",
   "execution_count": null,
   "metadata": {},
   "outputs": [],
   "source": []
  }
 ],
 "metadata": {
  "accelerator": "GPU",
  "colab": {
   "name": "Copy of 13-Ex1.ipynb",
   "provenance": []
  },
  "kernelspec": {
   "display_name": "Python 3",
   "language": "python",
   "name": "python3"
  },
  "language_info": {
   "codemirror_mode": {
    "name": "ipython",
    "version": 3
   },
   "file_extension": ".py",
   "mimetype": "text/x-python",
   "name": "python",
   "nbconvert_exporter": "python",
   "pygments_lexer": "ipython3",
   "version": "3.7.6"
  }
 },
 "nbformat": 4,
 "nbformat_minor": 1
}
